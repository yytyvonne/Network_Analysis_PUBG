{
 "cells": [
  {
   "cell_type": "markdown",
   "metadata": {
    "slideshow": {
     "slide_type": "slide"
    }
   },
   "source": [
    "### MY470 Computer Programming\n",
    "\n",
    "### Final Assignment, MT 2019\n",
    "\n",
    "#### \\*\\*\\* Due 12:00 noon on Monday, January 20, 2020 \\*\\*\\*"
   ]
  },
  {
   "cell_type": "markdown",
   "metadata": {
    "slideshow": {
     "slide_type": "slide"
    }
   },
   "source": [
    "---\n",
    "## Are victims of cheaters more likely to cheat?\n",
    "\n",
    "The final assignment asks you to use the computational thinking and programming skills you learned in the course to answer an empirical social science question. You are expected to apply the best practices and theoretical concepts we covered in the course to produce a program that not only returns the correct output but is also legible, modular, and reasonably optimized. The assignment assumes mastery of loops, conditionals, and functions, as well as awareness of issues related to runtime performance.\n",
    "\n",
    "In the assignment, we will study the social contagion of cheating on the massive multiplayer online game PlayerUnknown's Battlegrounds (PUBG). Cheating in this context means the adoption of unapproved software that gives the player an unfair advantage in the game (e.g. being able to see through walls). Our hypothesis is that players who are killed in the game by cheaters become likely to adopt cheating themselves. To test this hypothesis, we will first count how many victims of players become cheaters within a certain period of time. We will call these **victim–cheater motifs**. We will then simulate alternative universes in which the players played the same games in the same sequence but happened to be killed by someone else. Finally, we will compare how the count of the victim–cheater motifs observed in the actual data compares to what we would expect in a \"randomized\" world.  \n",
    "\n",
    "**NOTE: You are only allowed to use fundamental Python data types (lists, tuples, dictionaries, numpy.ndarray, etc.) to complete this assignment.** You are not allowed to use advanced data querying and data analysis packages such as pandas, sqlite, networkx, or similar. We impose this restriction in order to test your grasp of fundamental programming concepts, not your scripting experience with Python libraries. \n",
    "\n",
    "#### Hints\n",
    "\n",
    "Although this assignment is quite streamlined, imagine that the tasks here are part of a larger project. How would you structure your program if in the future you may need to use a different dataset with similar structure, manipulate the data differently, add additional analyses, or modify the focus of the current analysis? For example, consider placing helping functions in a separate file called `utils.py` or `tools.py`. These would be functions that you may need in different contexts and for different tasks. \n",
    "\n",
    "Keep different data manipulations in separate functions/methods and group related functions/classes in separate `.py` files. \n"
   ]
  },
  {
   "cell_type": "markdown",
   "metadata": {
    "slideshow": {
     "slide_type": "slide"
    }
   },
   "source": [
    "### Data\n",
    "\n",
    "You will find the data in the repository [https://github.com/lse-my470/assignment-final-data.git](https://github.com/lse-my470/assignment-final-data.git). Please clone the data repository in the same directory where you clone the repository `assignment-final-yourgithubname`. Keep the name for the data folder `assignment-final-data`. Any time when you refer to the data in your code, please use a relative path such as `'../assignment-final-data/filename.txt'` instead of an absolute path such as `'/Users/myname/Documents/my470/assignment-final-data/filename.txt'`. This way, we will be able to test your submission with our own copy of the data without having to modify your code.\n",
    "\n",
    "The data were collected by Jinny Kim (LSE ASDS MSc, 2019). The repository contains the following files:\n",
    "\n",
    "* `cheaters.txt` – contains cheaters who played between March 1 and March 10, 2019\n",
    "    1. player account id\n",
    "    * estimated date when the player started cheating\n",
    "    * date when the player's account was banned due to cheating\n",
    "    \n",
    "* `kills.txt` – contains the killings done in 6,000 randomly selected matches played between March 1 and March 10, 2019\n",
    "    1. match id \n",
    "    * account id of the killer\n",
    "    * account id of the player who got killed\n",
    "    * time when the attack (killing) happened\n",
    "\n",
    "#### Hints\n",
    "\n",
    "When writing your code, test it on a small \"toy dataset\", instead of the entire data. This way, you won't need to wait for minutes/hours just to find out that you have a syntax error!\n",
    "\n",
    "You should not modify the original data in any way. If your code creates new data files, you should save them in the directory where this file resides. "
   ]
  },
  {
   "cell_type": "markdown",
   "metadata": {},
   "source": [
    "### 1. Victims of cheaters turn into cheaters\n",
    "\n",
    "Count how many individuals were killed at least once by a cheater and then started cheating within the next 5 days. We will assume here that we can only talk about a causal relationship if the two events (being killed by a cheater and starting to cheat) are relatively proximate in time (within 5 days of each other). In essence, we are looking for temporal motifs in which cheater A kills B and then B becomes cheater, but the timing between the two events should not be more than 5 days.  \n",
    "\n",
    "#### Hint\n",
    "\n",
    "Assume that a day starts at 0:00. \n",
    "\n",
    "\n",
    "### 2. Simulating an alternative universe\n",
    "\n",
    "Of course, proximal in time does not necessarily mean causal. \n",
    "\n",
    "To establish causality, we will simulate an alternative world in which everything is the same but the cheater happens to kill someone else. If being a victim of cheating causes cheating, in the randomized world we will observe fewer victim–cheater motifs than in reality. To simulate an alternative universe, we will keep the timing and structure of interactions but randomly assign the identities of players. There are certain restrictions we need to observe, however: \n",
    "\n",
    "* Randomize within a game, not between games. \n",
    "* Randomize only games that have at least one cheater. The killings in games without cheaters do not affect the measure we are using.\n",
    "* A player cannot kill if the player has been killed already.\n",
    "* Since cheaters may tend to kill more or kill at a specific period in the game, we will preserve their position in the killing network. That is, only non-cheaters should be randomly reassigned. \n",
    "\n",
    "The figure below illustrates how shuffling should be completed:\n",
    "\n",
    "![Match randomization](match_randomization_diagram.png)\n",
    "\n",
    "#### Hints\n",
    "\n",
    "This step may be time consuming so it is worth finding a way to save the data so that you don't need to run the randomization again and again while working on step 3 below. If you decide to do so, please write your code to save any such files with processed data in the directory where this file resides. This way, we can run your code without having to alter it.\n",
    "\n",
    "Think about what is the most efficient way, both in terms of time and space, to save the data.\n",
    "\n",
    "\n",
    "### 3. Evaluating reality against alternative universes \n",
    "\n",
    "Conduct 10 randomizations for the data. Then plot the number of victim–cheater motifs observed in the actual data compared to the distribution you get in the randomized data. What do you observe? What does this tell us? (Write 2-3 sentences to reflect on the answer. You will not be marked on what you write but wouldn't it be a waste to do all of this work and not even try to think about what the results mean?) \n",
    "\n",
    "### Hint\n",
    "\n",
    "One way to visualize the results is with a histogram for the randomized network and a vertical line for the real network. Since we only have 10 randomized observations, this may not look that well, so feel free to experiment with other plot types.\n"
   ]
  },
  {
   "cell_type": "markdown",
   "metadata": {},
   "source": [
    "## Import and run your code here\n",
    "\n",
    "Keep your code in separate `.py` files and then import it in the code cell below. Then call the functions/methods you need to conduct the analysis described above. We should be able to run the cell below to calculate again the results and get the requested output, without having to modify your code in any way. "
   ]
  },
  {
   "cell_type": "code",
   "execution_count": 1,
   "metadata": {},
   "outputs": [],
   "source": [
    "##import required modules##\n",
    "from collections import defaultdict\n",
    "from datetime import datetime, timedelta\n",
    "from random import sample\n",
    "import matplotlib.pyplot as plt\n",
    "import pickle\n",
    "\n",
    "from data_manipulation import *\n",
    "from motifs import *\n",
    "from simulation import *\n",
    "from tools import *"
   ]
  },
  {
   "cell_type": "markdown",
   "metadata": {},
   "source": [
    "We import the required datasets in an appropriate data structure. "
   ]
  },
  {
   "cell_type": "code",
   "execution_count": 2,
   "metadata": {},
   "outputs": [],
   "source": [
    "##import data##\n",
    "file_1 = \"assignment-final-data/kills.txt\"\n",
    "file_2 = \"assignment-final-data/cheaters.txt\"\n",
    "f1 = open(file_1, \"r\")\n",
    "f2 = open(file_2, \"r\")\n",
    "killers, killed, kill_time = read_kills(f1)\n",
    "cheaters = read_cheater(f2)"
   ]
  },
  {
   "cell_type": "markdown",
   "metadata": {},
   "source": [
    "We count the number of victim - cheater motifs in the original dataset."
   ]
  },
  {
   "cell_type": "code",
   "execution_count": 3,
   "metadata": {},
   "outputs": [],
   "source": [
    "pubg = Victim_cheater_motif(cheaters, killers, killed, kill_time)\n",
    "FMT = '%Y-%m-%d %H:%M:%S'\n",
    "motif = pubg.count_motifs(fmt = FMT)\n",
    "motif = clean_dict(motif)\n",
    "num_motif = count_dict_values(motif)"
   ]
  },
  {
   "cell_type": "markdown",
   "metadata": {},
   "source": [
    "As we can see, the number of victim - cheater motifs in the original dataset is 36."
   ]
  },
  {
   "cell_type": "code",
   "execution_count": 4,
   "metadata": {},
   "outputs": [
    {
     "name": "stdout",
     "output_type": "stream",
     "text": [
      "29\n"
     ]
    }
   ],
   "source": [
    "print(num_motif)"
   ]
  },
  {
   "cell_type": "markdown",
   "metadata": {},
   "source": [
    "We now conduct 10 simulations to see to test our hypothesis."
   ]
  },
  {
   "cell_type": "code",
   "execution_count": 5,
   "metadata": {},
   "outputs": [],
   "source": [
    "for i in range(10):\n",
    "    sim_pubg = Simulation(cheaters, killers, killed, kill_time)  \n",
    "    sim_killers, sim_killed, sim_kill_time = sim_pubg.randomize_victims()\n",
    "    sim_pubg.save_network(i)"
   ]
  },
  {
   "cell_type": "markdown",
   "metadata": {},
   "source": [
    "Counting the motifs using the saved networks (Please run directly the cell below):"
   ]
  },
  {
   "cell_type": "code",
   "execution_count": 6,
   "metadata": {},
   "outputs": [],
   "source": [
    "num_motif_10 = []\n",
    "for i in range(10):\n",
    "    pickle_in = open(\"dict.pickle_killers\" + \"_\" + str(i), \"rb\")\n",
    "    sim_killers = pickle.load(pickle_in)\n",
    "    pickle_in = open(\"dict.pickle_killed\" + \"_\" + str(i), \"rb\")\n",
    "    sim_killed = pickle.load(pickle_in)\n",
    "    sim = Victim_cheater_motif(cheaters, sim_killers, sim_killed, sim_kill_time)\n",
    "    sim_motif = sim.count_motifs(fmt = FMT)\n",
    "    sim_motif = clean_dict(sim_motif)\n",
    "    num_motif_sim = len(sim_motif)\n",
    "    num_motif_10.append(num_motif_sim)"
   ]
  },
  {
   "cell_type": "markdown",
   "metadata": {},
   "source": [
    "The number of motifs in each simulation is as below:"
   ]
  },
  {
   "cell_type": "code",
   "execution_count": 7,
   "metadata": {},
   "outputs": [
    {
     "name": "stdout",
     "output_type": "stream",
     "text": [
      "[46, 38, 31, 26, 37, 41, 39, 42, 29, 31]\n"
     ]
    }
   ],
   "source": [
    "print(num_motif_10)"
   ]
  },
  {
   "cell_type": "markdown",
   "metadata": {},
   "source": [
    "Plotting our results in a histogram:"
   ]
  },
  {
   "cell_type": "code",
   "execution_count": 8,
   "metadata": {},
   "outputs": [
    {
     "data": {
      "image/png": "[encoded data removed]",
      "text/plain": [
       "<Figure size 432x288 with 1 Axes>"
      ]
     },
     "metadata": {
      "needs_background": "light"
     },
     "output_type": "display_data"
    }
   ],
   "source": [
    "fig, ax = plt.subplots()\n",
    "result = plt.hist(num_motif_10, bins = 10, color = 'c', edgecolor = 'k', alpha = 0.65, density = True)\n",
    "plt.axvline(num_motif, color = 'k', linestyle = 'dashed', linewidth = 1)\n",
    "ax.set_xlabel('Motifs')\n",
    "ax.set_ylabel('Probability density')\n",
    "ax.set_title('Simulations of PUBG: Victim-Cheater Motifs')\n",
    "fig.tight_layout()\n",
    "plt.show()"
   ]
  },
  {
   "cell_type": "markdown",
   "metadata": {},
   "source": [
    "From our simulation results, we can see that there are instances where more than 36 victim-cheater motifs are observed. This indicates that our hypothesis of causality between being victims of cheaters and becoming a cheater may be rejected in such reality.\n",
    "\n",
    "However upon reflection, 10 simuations are not a large enough sample size to establish such a strong statement. In order to test this hypothesis we need a larger sample size of simulations e.g. 100. Furthermore, statistical testing may be needed in order to evaluate the simulation results e.g. box plot for identifying mean, median, quantiles and more importantly outliers."
   ]
  },
  {
   "cell_type": "markdown",
   "metadata": {},
   "source": [
    "---\n",
    "\n",
    "### Evaluation\n",
    "\n",
    "| Aspect | Mark     | Comment   \n",
    "|:-------:|:--------:|:----------------------\n",
    "| Code runs      |   /10    |              \n",
    "| Accuracy       |   /40    | \n",
    "| Legibility     |   /10    | \n",
    "| Modularity     |   /10    | \n",
    "| Order-of-growth optimization      |   /20    | \n",
    "| Additional runtime and space optimization   |   /10    | \n",
    "|**Total**|**/100**  | \n"
   ]
  }
 ],
 "metadata": {
  "kernelspec": {
   "display_name": "Python 3",
   "language": "python",
   "name": "python3"
  },
  "language_info": {
   "codemirror_mode": {
    "name": "ipython",
    "version": 3
   },
   "file_extension": ".py",
   "mimetype": "text/x-python",
   "name": "python",
   "nbconvert_exporter": "python",
   "pygments_lexer": "ipython3",
   "version": "3.7.3"
  }
 },
 "nbformat": 4,
 "nbformat_minor": 2
}
